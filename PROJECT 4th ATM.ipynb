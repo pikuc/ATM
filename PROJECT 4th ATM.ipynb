{
 "cells": [
  {
   "cell_type": "markdown",
   "id": "7dd7b7c8",
   "metadata": {},
   "source": [
    "# ATM Simulator Project"
   ]
  },
  {
   "cell_type": "markdown",
   "id": "451ffe41",
   "metadata": {},
   "source": [
    "# Objective:"
   ]
  },
  {
   "cell_type": "code",
   "execution_count": null,
   "id": "293ccbf7",
   "metadata": {},
   "outputs": [],
   "source": [
    "\n",
    "The objective of the project is to build an application which is exactly working as an ATM machine.\n",
    "You need to include the basic functionalities such as Check Balance, Withdraw, Deposit and Exit of an \n",
    "ATM machine.\n",
    "\n",
    "The input for the application from the user is to enter the PIN and then ask the user to select an\n",
    "appropriate option and perform it accordingly\n"
   ]
  },
  {
   "cell_type": "code",
   "execution_count": null,
   "id": "55109fe1",
   "metadata": {},
   "outputs": [],
   "source": []
  },
  {
   "cell_type": "code",
   "execution_count": 12,
   "id": "3fa5d8c8",
   "metadata": {},
   "outputs": [
    {
     "name": "stdout",
     "output_type": "stream",
     "text": [
      "Welcome to ABC Bank\n",
      "Please insert your ATM Card\n",
      "Enter your PIN: 1234\n",
      "Welcome Priyanka\n",
      "Please choose from one of the following options...\n",
      "1. Check Balance\n",
      "2. Withdraw\n",
      "3. Deposit\n",
      "4. Exit\n",
      "Enter your choice: 3\n",
      "Enter amount to deposit: 50000\n",
      "Deposited 50000. Current balance is 50000.\n",
      "Enter your PIN: 2\n",
      "Invalid PIN. Please try again.\n",
      "Enter your PIN: 1234\n",
      "Welcome Priyanka\n",
      "Please choose from one of the following options...\n",
      "1. Check Balance\n",
      "2. Withdraw\n",
      "3. Deposit\n",
      "4. Exit\n",
      "Enter your choice: 2\n",
      "Enter amount to withdraw: 30000\n",
      "Withdrawn 30000. Current balance is 20000.\n",
      "Enter your PIN: 1234\n",
      "Welcome Priyanka\n",
      "Please choose from one of the following options...\n",
      "1. Check Balance\n",
      "2. Withdraw\n",
      "3. Deposit\n",
      "4. Exit\n",
      "Enter your choice: 1\n",
      "Your balance is 20000\n",
      "Enter your PIN: 1234\n",
      "Welcome Priyanka\n",
      "Please choose from one of the following options...\n",
      "1. Check Balance\n",
      "2. Withdraw\n",
      "3. Deposit\n",
      "4. Exit\n",
      "Enter your choice: 4\n"
     ]
    }
   ],
   "source": [
    "class ATM:\n",
    "    def __init__(self):\n",
    "        self.balance = 0\n",
    "\n",
    "    def check_balance(self):\n",
    "        return self.balance\n",
    "\n",
    "    def deposit(self, amount):\n",
    "        self.balance += amount\n",
    "        return f\"Deposited {amount}. Current balance is {self.balance}.\"\n",
    "\n",
    "    def withdraw(self, amount):\n",
    "        if self.balance >= amount:\n",
    "            self.balance -= amount\n",
    "            return f\"Withdrawn {amount}. Current balance is {self.balance}.\"\n",
    "        else:\n",
    "            return \"Insufficient funds.\"\n",
    "        \n",
    "print(\"Welcome to ABC Bank\")\n",
    "print(\"Please insert your ATM Card\")\n",
    "atm = ATM()\n",
    "  \n",
    "while True:\n",
    "    pin = input(\"Enter your PIN: \")\n",
    "    if pin == \"1234\":\n",
    "        print(\"Welcome Priyanka\")\n",
    "        print(\"Please choose from one of the following options...\")\n",
    "        print(\"1. Check Balance\")\n",
    "        print(\"2. Withdraw\")\n",
    "        print(\"3. Deposit\")\n",
    "        print(\"4. Exit\")\n",
    "        choice = int(input(\"Enter your choice: \"))\n",
    "        if choice == 1:\n",
    "            print(\"Your balance is\", atm.check_balance())\n",
    "        elif choice == 2:\n",
    "            amount = int(input(\"Enter amount to withdraw: \"))\n",
    "            print(atm.withdraw(amount))\n",
    "        elif choice == 3:\n",
    "            amount = int(input(\"Enter amount to deposit: \"))\n",
    "            print(atm.deposit(amount))\n",
    "        elif choice == 4:\n",
    "            break\n",
    "        else:\n",
    "            print(\"Invalid choice.\")\n",
    "    else:\n",
    "        print(\"Invalid PIN. Please try again.\")"
   ]
  },
  {
   "cell_type": "code",
   "execution_count": null,
   "id": "b87573b3",
   "metadata": {},
   "outputs": [],
   "source": []
  },
  {
   "cell_type": "code",
   "execution_count": null,
   "id": "59635611",
   "metadata": {},
   "outputs": [],
   "source": []
  },
  {
   "cell_type": "code",
   "execution_count": null,
   "id": "834bf801",
   "metadata": {},
   "outputs": [],
   "source": []
  }
 ],
 "metadata": {
  "kernelspec": {
   "display_name": "Python 3 (ipykernel)",
   "language": "python",
   "name": "python3"
  },
  "language_info": {
   "codemirror_mode": {
    "name": "ipython",
    "version": 3
   },
   "file_extension": ".py",
   "mimetype": "text/x-python",
   "name": "python",
   "nbconvert_exporter": "python",
   "pygments_lexer": "ipython3",
   "version": "3.11.5"
  }
 },
 "nbformat": 4,
 "nbformat_minor": 5
}
